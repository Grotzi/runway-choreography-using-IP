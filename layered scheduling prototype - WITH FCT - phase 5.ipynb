{
 "cells": [
  {
   "cell_type": "code",
   "execution_count": 1,
   "metadata": {},
   "outputs": [],
   "source": [
    "import gurobipy as gp\n",
    "import numpy as np\n",
    "from gurobipy import GRB\n",
    "import matplotlib.pyplot as plt\n",
    "import string\n",
    "import matplotlib\n",
    "import seaborn as sns\n",
    "import sys\n",
    "np.set_printoptions(threshold=sys.maxsize)"
   ]
  },
  {
   "cell_type": "code",
   "execution_count": 2,
   "metadata": {},
   "outputs": [],
   "source": [
    "# minimum amount of looks per step\n",
    "def looks_per_step(step, looks_min, changes):\n",
    "    model.addConstr(squares[:, :, :, step].sum() >= looks_min )\n",
    "    if step +1 < s:\n",
    "        model.addConstr(chg[:, :, :, step].sum() >= changes )"
   ]
  },
  {
   "cell_type": "code",
   "execution_count": 3,
   "metadata": {},
   "outputs": [],
   "source": [
    "def create_base_model(n, m, s):\n",
    "    \n",
    "    # initialize aux variables\n",
    "    for look in range(m):\n",
    "        for i in range(n):\n",
    "            for j in range(n):\n",
    "                for step in range(s-1):\n",
    "                    model.addGenConstrAnd(chg[look, i, j, step] , [squares[look, i, j, step] , squares[look, i, j, step+1] ])\n",
    "    \n",
    "    # each look can only appear once per frame\n",
    "    for look in range(m):\n",
    "        for figure in range(s):\n",
    "            model.addConstr(squares[look, :, :, figure].sum() <= 1)\n",
    "            # changing this constraint to == doubles the sol time ?\n",
    "\n",
    "    # NQC 1 - only look one per row or column\n",
    "    for step in range(s):\n",
    "        for i in range(n):\n",
    "            model.addConstr(squares[:, i, :, step].sum() <= 1)\n",
    "            model.addConstr(squares[:, :, i, step].sum() <= 1)\n",
    "\n",
    "    # NQC 2 - only one look per left and right diagonal\n",
    "    for step in range(s):\n",
    "        model.addConstrs(gp.quicksum(squares[m, i, j, step] for m in range(m) for i in range(n) for j in range(n) if i - j == k) <= 1 for k in range(-n + 1, n - 1))\n",
    "        model.addConstrs(gp.quicksum(squares[m, i, j, step] for m in range(m) for i in range(n) for j in range(n) if i + j == k) <= 1 for k in range(2 * n - 1)) "
   ]
  },
  {
   "cell_type": "code",
   "execution_count": 4,
   "metadata": {},
   "outputs": [],
   "source": [
    "def is_only_onstage(look, entry, exit):\n",
    "    for figure in range(s):\n",
    "        if figure > exit or figure < entry:\n",
    "            model.addConstr(squares[look, :, :, figure].sum() == 0)\n",
    "        else:\n",
    "            model.addConstr(squares[look, :, :, figure].sum() == 1)"
   ]
  },
  {
   "cell_type": "code",
   "execution_count": 5,
   "metadata": {},
   "outputs": [],
   "source": [
    "def init_config(look, y, x):\n",
    "    model.addConstr(squares[look, x, y, 0] == 1)"
   ]
  },
  {
   "cell_type": "code",
   "execution_count": 6,
   "metadata": {},
   "outputs": [],
   "source": [
    "def quad(look, q1, q2, q3, q4):\n",
    "    if q1 == 1:\n",
    "        model.addConstr(gp.quicksum(squares[look, i, j, figure] for figure in range(s) for i in range(n-f) for j in range(n-f) ) >= 1 )\n",
    "    if q1 == 0:\n",
    "        model.addConstr(gp.quicksum(squares[look, i, j, figure] for figure in range(s) for i in range(n-f) for j in range(n-f) ) == 0 )\n",
    "    \n",
    "    if q2 == 1:\n",
    "        model.addConstr(gp.quicksum(squares[look, i, j, figure] for figure in range(s) for i in range(f, n) for j in range(n-f) ) >= 1 )\n",
    "    if q2 == 0:\n",
    "        model.addConstr(gp.quicksum(squares[look, i, j, figure] for figure in range(s) for i in range(f, n) for j in range(n-f) ) == 0 )\n",
    "    \n",
    "    if q3 == 1:\n",
    "        model.addConstr(gp.quicksum(squares[look, i, j, figure] for figure in range(s) for i in range(n-f) for j in range(f, n) ) >= 1 )\n",
    "    if q3 == 0:\n",
    "        model.addConstr(gp.quicksum(squares[look, i, j, figure] for figure in range(s) for i in range(n-f) for j in range(f, n) ) == 0 )\n",
    "    \n",
    "    if q4 == 1:\n",
    "        model.addConstr(gp.quicksum(squares[look, i, j, figure] for figure in range(s) for i in range(f, n) for j in range(f, n) ) >= 1 )\n",
    "    if q4 == 0:\n",
    "        model.addConstr(gp.quicksum(squares[look, i, j, figure] for figure in range(s) for i in range(f, n) for j in range(f, n) ) == 0 )\n",
    "    "
   ]
  },
  {
   "cell_type": "code",
   "execution_count": 35,
   "metadata": {},
   "outputs": [],
   "source": [
    "n = 8 # size of board\n",
    "m = 7 # number of looks\n",
    "s = 10 # number of steps\n",
    "f = n//2\n",
    "\n",
    "model = gp.Model('layered_schedule')\n",
    "model.params.LogToConsole = 1\n",
    "squares = model.addMVar((m, n, n, s), vtype=GRB.BINARY, name=\"c\")\n",
    "chg = model.addMVar((m, n, n, s-1), vtype=GRB.BINARY, name=\"standing_still\")\n",
    "    \n",
    "create_base_model(n, m, s)"
   ]
  },
  {
   "cell_type": "code",
   "execution_count": 36,
   "metadata": {},
   "outputs": [
    {
     "data": {
      "text/plain": [
       "<gurobi.Constr *Awaiting Model Update*>"
      ]
     },
     "execution_count": 36,
     "metadata": {},
     "output_type": "execute_result"
    }
   ],
   "source": [
    "# initial setup form last phase, LOOK / X l.to.r / Y (from top to bot)\n",
    "#init_config(0, 0, 7-4)\n",
    "#init_config(1, 6, 7-7)\n",
    "init_config(0, 1, 7-7)\n",
    "init_config(1, 5, 7-5)\n",
    "model.addConstr(squares[5, 6, 4, s-1] == 1)\n",
    "model.addConstr(squares[6, 5, 6, s-1] == 1)"
   ]
  },
  {
   "cell_type": "code",
   "execution_count": 37,
   "metadata": {},
   "outputs": [],
   "source": [
    "is_only_onstage(0, 0, 0)\n",
    "is_only_onstage(1, 0, 0)\n",
    "is_only_onstage(2, 0, s)\n",
    "is_only_onstage(3, 0, s)\n",
    "is_only_onstage(4, 0, s)\n",
    "is_only_onstage(5, s-1, s)\n",
    "is_only_onstage(6, s-1, s)"
   ]
  },
  {
   "cell_type": "code",
   "execution_count": 38,
   "metadata": {},
   "outputs": [
    {
     "name": "stdout",
     "output_type": "stream",
     "text": [
      "1\n",
      "2\n",
      "3\n",
      "4\n",
      "5\n",
      "6\n",
      "7\n",
      "8\n"
     ]
    }
   ],
   "source": [
    "\n",
    "for step in range(1,s-1):\n",
    "    print(step)\n",
    "    looks_per_step(step, 3, 2)\n",
    "looks_per_step(0, 5, 2)\n",
    "#looks_per_step(s, 5, 0)\n"
   ]
  },
  {
   "cell_type": "code",
   "execution_count": 39,
   "metadata": {},
   "outputs": [],
   "source": [
    "#quad(0, 1, 1, 1, 1)\n",
    "#quad(1, 1, 1, 1, 1)\n",
    "quad(2, 1, 1, 1, 1)\n",
    "quad(3, 1, 1, 1, 1)\n",
    "quad(4, 1, 1, 1, 1)\n",
    "#quad(5, 1, 1, 1, 1)"
   ]
  },
  {
   "cell_type": "code",
   "execution_count": 40,
   "metadata": {
    "scrolled": true
   },
   "outputs": [
    {
     "name": "stdout",
     "output_type": "stream",
     "text": [
      "Gurobi Optimizer version 9.5.0 build v9.5.0rc5 (win64)\n",
      "Thread count: 6 physical cores, 12 logical processors, using up to 12 threads\n",
      "Optimize a model with 624 rows, 8512 columns and 36798 nonzeros\n",
      "Model fingerprint: 0x92d597e2\n",
      "Model has 4032 general constraints\n",
      "Variable types: 0 continuous, 8512 integer (8512 binary)\n",
      "Coefficient statistics:\n",
      "  Matrix range     [1e+00, 1e+00]\n",
      "  Objective range  [0e+00, 0e+00]\n",
      "  Bounds range     [1e+00, 1e+00]\n",
      "  RHS range        [1e+00, 5e+00]\n",
      "Presolve added 2796 rows and 0 columns\n",
      "Presolve removed 0 rows and 5338 columns\n",
      "Presolve time: 0.05s\n",
      "Presolved: 3420 rows, 3174 columns, 17877 nonzeros\n",
      "Variable types: 0 continuous, 3174 integer (3174 binary)\n",
      "\n",
      "Root relaxation: objective 0.000000e+00, 2692 iterations, 0.12 seconds (0.16 work units)\n",
      "\n",
      "    Nodes    |    Current Node    |     Objective Bounds      |     Work\n",
      " Expl Unexpl |  Obj  Depth IntInf | Incumbent    BestBd   Gap | It/Node Time\n",
      "\n",
      "H    0     0                       0.0000000    0.00000  0.00%     -    0s\n",
      "     0     0    0.00000    0   54    0.00000    0.00000  0.00%     -    0s\n",
      "\n",
      "Explored 1 nodes (6143 simplex iterations) in 0.30 seconds (0.39 work units)\n",
      "Thread count was 12 (of 12 available processors)\n",
      "\n",
      "Solution count 1: 0 \n",
      "\n",
      "Optimal solution found (tolerance 1.00e-04)\n",
      "Best objective 0.000000000000e+00, best bound 0.000000000000e+00, gap 0.0000%\n",
      "Runtime:  0.3016319274902344\n"
     ]
    }
   ],
   "source": [
    "model.optimize()\n",
    "print('Runtime:  '+str(model.Runtime))\n",
    "\n",
    "instr_arr = np.zeros((s,n,n))\n",
    "for look in range(m):\n",
    "    for figure in range(s):\n",
    "        for i in range(n):\n",
    "            for j in range(n):\n",
    "                if np.rint(squares.X[look,i,j,figure]) == 1:\n",
    "                    #print(figure, i, j)\n",
    "                    instr_arr[figure,i,j] = look+1 + 4"
   ]
  },
  {
   "cell_type": "code",
   "execution_count": 41,
   "metadata": {},
   "outputs": [],
   "source": [
    "#(np.argwhere(squares.X[5,:,:,:] == 1))"
   ]
  },
  {
   "cell_type": "code",
   "execution_count": 42,
   "metadata": {
    "scrolled": false
   },
   "outputs": [
    {
     "data": {
      "text/plain": [
       "array([[[ 0.,  5.,  0.,  0.,  0.,  0.,  0.,  0.],\n",
       "        [ 0.,  0.,  0.,  0.,  0.,  0.,  0.,  9.],\n",
       "        [ 0.,  0.,  0.,  0.,  0.,  6.,  0.,  0.],\n",
       "        [ 0.,  0.,  0.,  0.,  0.,  0.,  0.,  0.],\n",
       "        [ 0.,  0.,  0.,  0.,  0.,  0.,  0.,  0.],\n",
       "        [ 7.,  0.,  0.,  0.,  0.,  0.,  0.,  0.],\n",
       "        [ 0.,  0.,  0.,  0.,  0.,  0.,  0.,  0.],\n",
       "        [ 0.,  0.,  0.,  0.,  8.,  0.,  0.,  0.]],\n",
       "\n",
       "       [[ 0.,  0.,  0.,  9.,  0.,  0.,  0.,  0.],\n",
       "        [ 0.,  0.,  0.,  0.,  0.,  0.,  0.,  0.],\n",
       "        [ 0.,  0.,  0.,  0.,  0.,  0.,  0.,  0.],\n",
       "        [ 0.,  0.,  0.,  0.,  0.,  0.,  0.,  0.],\n",
       "        [ 0.,  0.,  0.,  0.,  0.,  0.,  0.,  0.],\n",
       "        [ 7.,  0.,  0.,  0.,  0.,  0.,  0.,  0.],\n",
       "        [ 0.,  0.,  0.,  0.,  0.,  0.,  0.,  0.],\n",
       "        [ 0.,  0.,  0.,  0.,  8.,  0.,  0.,  0.]],\n",
       "\n",
       "       [[ 0.,  0.,  0.,  9.,  0.,  0.,  0.,  0.],\n",
       "        [ 0.,  0.,  0.,  0.,  0.,  0.,  7.,  0.],\n",
       "        [ 0.,  0.,  0.,  0.,  0.,  0.,  0.,  0.],\n",
       "        [ 0.,  0.,  0.,  0.,  0.,  0.,  0.,  0.],\n",
       "        [ 0.,  0.,  0.,  0.,  0.,  0.,  0.,  0.],\n",
       "        [ 0.,  0.,  0.,  0.,  0.,  0.,  0.,  0.],\n",
       "        [ 0.,  0.,  0.,  0.,  0.,  0.,  0.,  0.],\n",
       "        [ 0.,  0.,  0.,  0.,  8.,  0.,  0.,  0.]],\n",
       "\n",
       "       [[ 0.,  0.,  0.,  9.,  0.,  0.,  0.,  0.],\n",
       "        [ 0.,  0.,  0.,  0.,  0.,  0.,  0.,  0.],\n",
       "        [ 0.,  0.,  0.,  0.,  0.,  0.,  0.,  0.],\n",
       "        [ 0.,  0.,  0.,  0.,  0.,  0.,  0.,  0.],\n",
       "        [ 0.,  0.,  0.,  0.,  0.,  0.,  0.,  0.],\n",
       "        [ 0.,  0.,  0.,  0.,  0.,  0.,  0.,  7.],\n",
       "        [ 0.,  0.,  0.,  0.,  0.,  0.,  0.,  0.],\n",
       "        [ 0.,  0.,  0.,  0.,  8.,  0.,  0.,  0.]],\n",
       "\n",
       "       [[ 0.,  0.,  0.,  9.,  0.,  0.,  0.,  0.],\n",
       "        [ 0.,  0.,  0.,  0.,  0.,  0.,  0.,  0.],\n",
       "        [ 0.,  0.,  0.,  0.,  0.,  0.,  0.,  0.],\n",
       "        [ 0.,  0.,  0.,  0.,  0.,  0.,  0.,  0.],\n",
       "        [ 0.,  0.,  0.,  0.,  0.,  0.,  0.,  0.],\n",
       "        [ 0.,  0.,  0.,  0.,  0.,  0.,  0.,  7.],\n",
       "        [ 0.,  0.,  0.,  0.,  0.,  0.,  0.,  0.],\n",
       "        [ 8.,  0.,  0.,  0.,  0.,  0.,  0.,  0.]],\n",
       "\n",
       "       [[ 0.,  0.,  0.,  9.,  0.,  0.,  0.,  0.],\n",
       "        [ 0.,  0.,  0.,  0.,  0.,  8.,  0.,  0.],\n",
       "        [ 0.,  0.,  0.,  0.,  0.,  0.,  0.,  0.],\n",
       "        [ 0.,  0.,  0.,  0.,  0.,  0.,  0.,  0.],\n",
       "        [ 0.,  0.,  0.,  0.,  0.,  0.,  0.,  0.],\n",
       "        [ 0.,  0.,  0.,  0.,  0.,  0.,  0.,  7.],\n",
       "        [ 0.,  0.,  0.,  0.,  0.,  0.,  0.,  0.],\n",
       "        [ 0.,  0.,  0.,  0.,  0.,  0.,  0.,  0.]],\n",
       "\n",
       "       [[ 0.,  0.,  0.,  9.,  0.,  0.,  0.,  0.],\n",
       "        [ 8.,  0.,  0.,  0.,  0.,  0.,  0.,  0.],\n",
       "        [ 0.,  0.,  0.,  0.,  0.,  0.,  0.,  0.],\n",
       "        [ 0.,  0.,  0.,  0.,  0.,  0.,  0.,  0.],\n",
       "        [ 0.,  0.,  0.,  0.,  0.,  0.,  0.,  0.],\n",
       "        [ 0.,  0.,  0.,  0.,  0.,  0.,  0.,  7.],\n",
       "        [ 0.,  0.,  0.,  0.,  0.,  0.,  0.,  0.],\n",
       "        [ 0.,  0.,  0.,  0.,  0.,  0.,  0.,  0.]],\n",
       "\n",
       "       [[ 0.,  0.,  0.,  0.,  0.,  0.,  0.,  0.],\n",
       "        [ 8.,  0.,  0.,  0.,  0.,  0.,  0.,  0.],\n",
       "        [ 0.,  0.,  0.,  0.,  0.,  0.,  0.,  0.],\n",
       "        [ 0.,  0.,  0.,  0.,  0.,  0.,  0.,  0.],\n",
       "        [ 0.,  0.,  9.,  0.,  0.,  0.,  0.,  0.],\n",
       "        [ 0.,  0.,  0.,  0.,  0.,  0.,  0.,  7.],\n",
       "        [ 0.,  0.,  0.,  0.,  0.,  0.,  0.,  0.],\n",
       "        [ 0.,  0.,  0.,  0.,  0.,  0.,  0.,  0.]],\n",
       "\n",
       "       [[ 0.,  0.,  0.,  7.,  0.,  0.,  0.,  0.],\n",
       "        [ 8.,  0.,  0.,  0.,  0.,  0.,  0.,  0.],\n",
       "        [ 0.,  0.,  0.,  0.,  0.,  0.,  0.,  0.],\n",
       "        [ 0.,  0.,  0.,  0.,  0.,  0.,  0.,  0.],\n",
       "        [ 0.,  0.,  9.,  0.,  0.,  0.,  0.,  0.],\n",
       "        [ 0.,  0.,  0.,  0.,  0.,  0.,  0.,  0.],\n",
       "        [ 0.,  0.,  0.,  0.,  0.,  0.,  0.,  0.],\n",
       "        [ 0.,  0.,  0.,  0.,  0.,  0.,  0.,  0.]],\n",
       "\n",
       "       [[ 0.,  0.,  0.,  7.,  0.,  0.,  0.,  0.],\n",
       "        [ 8.,  0.,  0.,  0.,  0.,  0.,  0.,  0.],\n",
       "        [ 0.,  0.,  0.,  0.,  0.,  0.,  0.,  0.],\n",
       "        [ 0.,  0.,  0.,  0.,  0.,  0.,  0.,  0.],\n",
       "        [ 0.,  0.,  0.,  0.,  0.,  0.,  0.,  0.],\n",
       "        [ 0.,  0.,  0.,  0.,  0.,  0., 11.,  0.],\n",
       "        [ 0.,  0.,  0.,  0., 10.,  0.,  0.,  0.],\n",
       "        [ 0.,  0.,  0.,  0.,  0.,  0.,  0.,  9.]]])"
      ]
     },
     "execution_count": 42,
     "metadata": {},
     "output_type": "execute_result"
    }
   ],
   "source": [
    "instr_arr"
   ]
  },
  {
   "cell_type": "code",
   "execution_count": 23,
   "metadata": {},
   "outputs": [
    {
     "data": {
      "text/plain": [
       "3"
      ]
     },
     "execution_count": 23,
     "metadata": {},
     "output_type": "execute_result"
    }
   ],
   "source": [
    "np.count_nonzero(instr_arr[9,:,:])"
   ]
  },
  {
   "cell_type": "code",
   "execution_count": 26,
   "metadata": {},
   "outputs": [
    {
     "data": {
      "text/plain": [
       "array([], shape=(0, 3), dtype=int64)"
      ]
     },
     "execution_count": 26,
     "metadata": {},
     "output_type": "execute_result"
    }
   ],
   "source": [
    "(np.argwhere(squares.X[5,:,:,:] == 1))"
   ]
  },
  {
   "cell_type": "code",
   "execution_count": null,
   "metadata": {},
   "outputs": [],
   "source": []
  }
 ],
 "metadata": {
  "kernelspec": {
   "display_name": "Python 3 (ipykernel)",
   "language": "python",
   "name": "python3"
  },
  "language_info": {
   "codemirror_mode": {
    "name": "ipython",
    "version": 3
   },
   "file_extension": ".py",
   "mimetype": "text/x-python",
   "name": "python",
   "nbconvert_exporter": "python",
   "pygments_lexer": "ipython3",
   "version": "3.9.9"
  }
 },
 "nbformat": 4,
 "nbformat_minor": 4
}
